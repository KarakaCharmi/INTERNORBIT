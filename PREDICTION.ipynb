{
  "nbformat": 4,
  "nbformat_minor": 0,
  "metadata": {
    "colab": {
      "provenance": [],
      "authorship_tag": "ABX9TyP69ZiMVqdYuFlA2pkdBR6r",
      "include_colab_link": true
    },
    "kernelspec": {
      "name": "python3",
      "display_name": "Python 3"
    },
    "language_info": {
      "name": "python"
    }
  },
  "cells": [
    {
      "cell_type": "markdown",
      "metadata": {
        "id": "view-in-github",
        "colab_type": "text"
      },
      "source": [
        "<a href=\"https://colab.research.google.com/github/KarakaCharmi/INTERNORBIT/blob/main/PREDICTION.ipynb\" target=\"_parent\"><img src=\"https://colab.research.google.com/assets/colab-badge.svg\" alt=\"Open In Colab\"/></a>"
      ]
    },
    {
      "cell_type": "code",
      "source": [
        "# Step 1: Install and import necessary libraries\n",
        "import pandas as pd\n",
        "import numpy as np\n",
        "import matplotlib.pyplot as plt\n",
        "import seaborn as sns\n",
        "\n",
        "from sklearn.model_selection import train_test_split\n",
        "from sklearn.linear_model import LinearRegression, Ridge, Lasso\n",
        "from sklearn.ensemble import RandomForestRegressor\n",
        "from sklearn.metrics import mean_squared_error, r2_score\n"
      ],
      "metadata": {
        "id": "kABfXmvdMUda"
      },
      "execution_count": null,
      "outputs": []
    },
    {
      "cell_type": "code",
      "execution_count": null,
      "metadata": {
        "id": "uYYRTFwseGVd",
        "collapsed": true
      },
      "outputs": [],
      "source": [
        "#Loading the Dataset\n",
        "df = pd.read_csv(\"/content/IMDb Movies India.csv\",encoding='ISO-8859-1')\n",
        "print(df.head())\n",
        "print(df.info())\n",
        "\n"
      ]
    },
    {
      "cell_type": "code",
      "source": [
        "df.describe()\n"
      ],
      "metadata": {
        "colab": {
          "base_uri": "https://localhost:8080/",
          "height": 320
        },
        "collapsed": true,
        "id": "qYARUpY3LY33",
        "outputId": "2ed40165-152d-4d7f-cc49-20eb970520b8"
      },
      "execution_count": 44,
      "outputs": [
        {
          "output_type": "execute_result",
          "data": {
            "text/plain": [
              "              Year     Duration       Rating        Votes   Num_Actors  \\\n",
              "count  7812.000000  7812.000000  7812.000000  7812.000000  7812.000000   \n",
              "mean   1993.797363   132.699053     5.839196     4.654525     2.932156   \n",
              "std      20.000142    22.935046     1.381314     2.203758     0.401004   \n",
              "min    1917.000000    21.000000     1.100000     1.791759     0.000000   \n",
              "25%    1980.000000   123.000000     4.900000     2.890372     3.000000   \n",
              "50%    1997.000000   134.000000     6.000000     4.060443     3.000000   \n",
              "75%    2011.000000   143.000000     6.800000     6.042633     3.000000   \n",
              "max    2021.000000   321.000000    10.000000    13.290278     3.000000   \n",
              "\n",
              "       Director_Freq  Duration_x_Num_Actors  Votes_x_DirectorFreq  \\\n",
              "count    7812.000000            7812.000000           7812.000000   \n",
              "mean        0.001087             390.982335              0.005262   \n",
              "std         0.001238              85.779098              0.007087   \n",
              "min         0.000128               0.000000              0.000229   \n",
              "25%         0.000128             366.000000              0.000779   \n",
              "50%         0.000640             402.000000              0.002538   \n",
              "75%         0.001536             429.000000              0.006933   \n",
              "max         0.005888             963.000000              0.065503   \n",
              "\n",
              "       Actor1_Freq  Actor2_Freq  Actor3_Freq  Total_Actor_Freq  \n",
              "count  7812.000000  7812.000000  7812.000000       7812.000000  \n",
              "mean     28.850614    12.392601     9.508449         50.751664  \n",
              "std      39.574168    15.470767    12.478677         54.436540  \n",
              "min       0.000000     0.000000     0.000000          0.000000  \n",
              "25%       2.000000     1.000000     1.000000          9.000000  \n",
              "50%       9.000000     5.000000     4.000000         29.000000  \n",
              "75%      39.000000    18.000000    13.000000         77.000000  \n",
              "max     140.000000    79.000000    74.000000        279.000000  "
            ],
            "text/html": [
              "\n",
              "  <div id=\"df-ad8a373d-1cdf-4cf5-b108-d204a4690a9d\" class=\"colab-df-container\">\n",
              "    <div>\n",
              "<style scoped>\n",
              "    .dataframe tbody tr th:only-of-type {\n",
              "        vertical-align: middle;\n",
              "    }\n",
              "\n",
              "    .dataframe tbody tr th {\n",
              "        vertical-align: top;\n",
              "    }\n",
              "\n",
              "    .dataframe thead th {\n",
              "        text-align: right;\n",
              "    }\n",
              "</style>\n",
              "<table border=\"1\" class=\"dataframe\">\n",
              "  <thead>\n",
              "    <tr style=\"text-align: right;\">\n",
              "      <th></th>\n",
              "      <th>Year</th>\n",
              "      <th>Duration</th>\n",
              "      <th>Rating</th>\n",
              "      <th>Votes</th>\n",
              "      <th>Num_Actors</th>\n",
              "      <th>Director_Freq</th>\n",
              "      <th>Duration_x_Num_Actors</th>\n",
              "      <th>Votes_x_DirectorFreq</th>\n",
              "      <th>Actor1_Freq</th>\n",
              "      <th>Actor2_Freq</th>\n",
              "      <th>Actor3_Freq</th>\n",
              "      <th>Total_Actor_Freq</th>\n",
              "    </tr>\n",
              "  </thead>\n",
              "  <tbody>\n",
              "    <tr>\n",
              "      <th>count</th>\n",
              "      <td>7812.000000</td>\n",
              "      <td>7812.000000</td>\n",
              "      <td>7812.000000</td>\n",
              "      <td>7812.000000</td>\n",
              "      <td>7812.000000</td>\n",
              "      <td>7812.000000</td>\n",
              "      <td>7812.000000</td>\n",
              "      <td>7812.000000</td>\n",
              "      <td>7812.000000</td>\n",
              "      <td>7812.000000</td>\n",
              "      <td>7812.000000</td>\n",
              "      <td>7812.000000</td>\n",
              "    </tr>\n",
              "    <tr>\n",
              "      <th>mean</th>\n",
              "      <td>1993.797363</td>\n",
              "      <td>132.699053</td>\n",
              "      <td>5.839196</td>\n",
              "      <td>4.654525</td>\n",
              "      <td>2.932156</td>\n",
              "      <td>0.001087</td>\n",
              "      <td>390.982335</td>\n",
              "      <td>0.005262</td>\n",
              "      <td>28.850614</td>\n",
              "      <td>12.392601</td>\n",
              "      <td>9.508449</td>\n",
              "      <td>50.751664</td>\n",
              "    </tr>\n",
              "    <tr>\n",
              "      <th>std</th>\n",
              "      <td>20.000142</td>\n",
              "      <td>22.935046</td>\n",
              "      <td>1.381314</td>\n",
              "      <td>2.203758</td>\n",
              "      <td>0.401004</td>\n",
              "      <td>0.001238</td>\n",
              "      <td>85.779098</td>\n",
              "      <td>0.007087</td>\n",
              "      <td>39.574168</td>\n",
              "      <td>15.470767</td>\n",
              "      <td>12.478677</td>\n",
              "      <td>54.436540</td>\n",
              "    </tr>\n",
              "    <tr>\n",
              "      <th>min</th>\n",
              "      <td>1917.000000</td>\n",
              "      <td>21.000000</td>\n",
              "      <td>1.100000</td>\n",
              "      <td>1.791759</td>\n",
              "      <td>0.000000</td>\n",
              "      <td>0.000128</td>\n",
              "      <td>0.000000</td>\n",
              "      <td>0.000229</td>\n",
              "      <td>0.000000</td>\n",
              "      <td>0.000000</td>\n",
              "      <td>0.000000</td>\n",
              "      <td>0.000000</td>\n",
              "    </tr>\n",
              "    <tr>\n",
              "      <th>25%</th>\n",
              "      <td>1980.000000</td>\n",
              "      <td>123.000000</td>\n",
              "      <td>4.900000</td>\n",
              "      <td>2.890372</td>\n",
              "      <td>3.000000</td>\n",
              "      <td>0.000128</td>\n",
              "      <td>366.000000</td>\n",
              "      <td>0.000779</td>\n",
              "      <td>2.000000</td>\n",
              "      <td>1.000000</td>\n",
              "      <td>1.000000</td>\n",
              "      <td>9.000000</td>\n",
              "    </tr>\n",
              "    <tr>\n",
              "      <th>50%</th>\n",
              "      <td>1997.000000</td>\n",
              "      <td>134.000000</td>\n",
              "      <td>6.000000</td>\n",
              "      <td>4.060443</td>\n",
              "      <td>3.000000</td>\n",
              "      <td>0.000640</td>\n",
              "      <td>402.000000</td>\n",
              "      <td>0.002538</td>\n",
              "      <td>9.000000</td>\n",
              "      <td>5.000000</td>\n",
              "      <td>4.000000</td>\n",
              "      <td>29.000000</td>\n",
              "    </tr>\n",
              "    <tr>\n",
              "      <th>75%</th>\n",
              "      <td>2011.000000</td>\n",
              "      <td>143.000000</td>\n",
              "      <td>6.800000</td>\n",
              "      <td>6.042633</td>\n",
              "      <td>3.000000</td>\n",
              "      <td>0.001536</td>\n",
              "      <td>429.000000</td>\n",
              "      <td>0.006933</td>\n",
              "      <td>39.000000</td>\n",
              "      <td>18.000000</td>\n",
              "      <td>13.000000</td>\n",
              "      <td>77.000000</td>\n",
              "    </tr>\n",
              "    <tr>\n",
              "      <th>max</th>\n",
              "      <td>2021.000000</td>\n",
              "      <td>321.000000</td>\n",
              "      <td>10.000000</td>\n",
              "      <td>13.290278</td>\n",
              "      <td>3.000000</td>\n",
              "      <td>0.005888</td>\n",
              "      <td>963.000000</td>\n",
              "      <td>0.065503</td>\n",
              "      <td>140.000000</td>\n",
              "      <td>79.000000</td>\n",
              "      <td>74.000000</td>\n",
              "      <td>279.000000</td>\n",
              "    </tr>\n",
              "  </tbody>\n",
              "</table>\n",
              "</div>\n",
              "    <div class=\"colab-df-buttons\">\n",
              "\n",
              "  <div class=\"colab-df-container\">\n",
              "    <button class=\"colab-df-convert\" onclick=\"convertToInteractive('df-ad8a373d-1cdf-4cf5-b108-d204a4690a9d')\"\n",
              "            title=\"Convert this dataframe to an interactive table.\"\n",
              "            style=\"display:none;\">\n",
              "\n",
              "  <svg xmlns=\"http://www.w3.org/2000/svg\" height=\"24px\" viewBox=\"0 -960 960 960\">\n",
              "    <path d=\"M120-120v-720h720v720H120Zm60-500h600v-160H180v160Zm220 220h160v-160H400v160Zm0 220h160v-160H400v160ZM180-400h160v-160H180v160Zm440 0h160v-160H620v160ZM180-180h160v-160H180v160Zm440 0h160v-160H620v160Z\"/>\n",
              "  </svg>\n",
              "    </button>\n",
              "\n",
              "  <style>\n",
              "    .colab-df-container {\n",
              "      display:flex;\n",
              "      gap: 12px;\n",
              "    }\n",
              "\n",
              "    .colab-df-convert {\n",
              "      background-color: #E8F0FE;\n",
              "      border: none;\n",
              "      border-radius: 50%;\n",
              "      cursor: pointer;\n",
              "      display: none;\n",
              "      fill: #1967D2;\n",
              "      height: 32px;\n",
              "      padding: 0 0 0 0;\n",
              "      width: 32px;\n",
              "    }\n",
              "\n",
              "    .colab-df-convert:hover {\n",
              "      background-color: #E2EBFA;\n",
              "      box-shadow: 0px 1px 2px rgba(60, 64, 67, 0.3), 0px 1px 3px 1px rgba(60, 64, 67, 0.15);\n",
              "      fill: #174EA6;\n",
              "    }\n",
              "\n",
              "    .colab-df-buttons div {\n",
              "      margin-bottom: 4px;\n",
              "    }\n",
              "\n",
              "    [theme=dark] .colab-df-convert {\n",
              "      background-color: #3B4455;\n",
              "      fill: #D2E3FC;\n",
              "    }\n",
              "\n",
              "    [theme=dark] .colab-df-convert:hover {\n",
              "      background-color: #434B5C;\n",
              "      box-shadow: 0px 1px 3px 1px rgba(0, 0, 0, 0.15);\n",
              "      filter: drop-shadow(0px 1px 2px rgba(0, 0, 0, 0.3));\n",
              "      fill: #FFFFFF;\n",
              "    }\n",
              "  </style>\n",
              "\n",
              "    <script>\n",
              "      const buttonEl =\n",
              "        document.querySelector('#df-ad8a373d-1cdf-4cf5-b108-d204a4690a9d button.colab-df-convert');\n",
              "      buttonEl.style.display =\n",
              "        google.colab.kernel.accessAllowed ? 'block' : 'none';\n",
              "\n",
              "      async function convertToInteractive(key) {\n",
              "        const element = document.querySelector('#df-ad8a373d-1cdf-4cf5-b108-d204a4690a9d');\n",
              "        const dataTable =\n",
              "          await google.colab.kernel.invokeFunction('convertToInteractive',\n",
              "                                                    [key], {});\n",
              "        if (!dataTable) return;\n",
              "\n",
              "        const docLinkHtml = 'Like what you see? Visit the ' +\n",
              "          '<a target=\"_blank\" href=https://colab.research.google.com/notebooks/data_table.ipynb>data table notebook</a>'\n",
              "          + ' to learn more about interactive tables.';\n",
              "        element.innerHTML = '';\n",
              "        dataTable['output_type'] = 'display_data';\n",
              "        await google.colab.output.renderOutput(dataTable, element);\n",
              "        const docLink = document.createElement('div');\n",
              "        docLink.innerHTML = docLinkHtml;\n",
              "        element.appendChild(docLink);\n",
              "      }\n",
              "    </script>\n",
              "  </div>\n",
              "\n",
              "\n",
              "    <div id=\"df-0f8f4710-1ef2-4a1e-af13-c7cf06d8d67b\">\n",
              "      <button class=\"colab-df-quickchart\" onclick=\"quickchart('df-0f8f4710-1ef2-4a1e-af13-c7cf06d8d67b')\"\n",
              "                title=\"Suggest charts\"\n",
              "                style=\"display:none;\">\n",
              "\n",
              "<svg xmlns=\"http://www.w3.org/2000/svg\" height=\"24px\"viewBox=\"0 0 24 24\"\n",
              "     width=\"24px\">\n",
              "    <g>\n",
              "        <path d=\"M19 3H5c-1.1 0-2 .9-2 2v14c0 1.1.9 2 2 2h14c1.1 0 2-.9 2-2V5c0-1.1-.9-2-2-2zM9 17H7v-7h2v7zm4 0h-2V7h2v10zm4 0h-2v-4h2v4z\"/>\n",
              "    </g>\n",
              "</svg>\n",
              "      </button>\n",
              "\n",
              "<style>\n",
              "  .colab-df-quickchart {\n",
              "      --bg-color: #E8F0FE;\n",
              "      --fill-color: #1967D2;\n",
              "      --hover-bg-color: #E2EBFA;\n",
              "      --hover-fill-color: #174EA6;\n",
              "      --disabled-fill-color: #AAA;\n",
              "      --disabled-bg-color: #DDD;\n",
              "  }\n",
              "\n",
              "  [theme=dark] .colab-df-quickchart {\n",
              "      --bg-color: #3B4455;\n",
              "      --fill-color: #D2E3FC;\n",
              "      --hover-bg-color: #434B5C;\n",
              "      --hover-fill-color: #FFFFFF;\n",
              "      --disabled-bg-color: #3B4455;\n",
              "      --disabled-fill-color: #666;\n",
              "  }\n",
              "\n",
              "  .colab-df-quickchart {\n",
              "    background-color: var(--bg-color);\n",
              "    border: none;\n",
              "    border-radius: 50%;\n",
              "    cursor: pointer;\n",
              "    display: none;\n",
              "    fill: var(--fill-color);\n",
              "    height: 32px;\n",
              "    padding: 0;\n",
              "    width: 32px;\n",
              "  }\n",
              "\n",
              "  .colab-df-quickchart:hover {\n",
              "    background-color: var(--hover-bg-color);\n",
              "    box-shadow: 0 1px 2px rgba(60, 64, 67, 0.3), 0 1px 3px 1px rgba(60, 64, 67, 0.15);\n",
              "    fill: var(--button-hover-fill-color);\n",
              "  }\n",
              "\n",
              "  .colab-df-quickchart-complete:disabled,\n",
              "  .colab-df-quickchart-complete:disabled:hover {\n",
              "    background-color: var(--disabled-bg-color);\n",
              "    fill: var(--disabled-fill-color);\n",
              "    box-shadow: none;\n",
              "  }\n",
              "\n",
              "  .colab-df-spinner {\n",
              "    border: 2px solid var(--fill-color);\n",
              "    border-color: transparent;\n",
              "    border-bottom-color: var(--fill-color);\n",
              "    animation:\n",
              "      spin 1s steps(1) infinite;\n",
              "  }\n",
              "\n",
              "  @keyframes spin {\n",
              "    0% {\n",
              "      border-color: transparent;\n",
              "      border-bottom-color: var(--fill-color);\n",
              "      border-left-color: var(--fill-color);\n",
              "    }\n",
              "    20% {\n",
              "      border-color: transparent;\n",
              "      border-left-color: var(--fill-color);\n",
              "      border-top-color: var(--fill-color);\n",
              "    }\n",
              "    30% {\n",
              "      border-color: transparent;\n",
              "      border-left-color: var(--fill-color);\n",
              "      border-top-color: var(--fill-color);\n",
              "      border-right-color: var(--fill-color);\n",
              "    }\n",
              "    40% {\n",
              "      border-color: transparent;\n",
              "      border-right-color: var(--fill-color);\n",
              "      border-top-color: var(--fill-color);\n",
              "    }\n",
              "    60% {\n",
              "      border-color: transparent;\n",
              "      border-right-color: var(--fill-color);\n",
              "    }\n",
              "    80% {\n",
              "      border-color: transparent;\n",
              "      border-right-color: var(--fill-color);\n",
              "      border-bottom-color: var(--fill-color);\n",
              "    }\n",
              "    90% {\n",
              "      border-color: transparent;\n",
              "      border-bottom-color: var(--fill-color);\n",
              "    }\n",
              "  }\n",
              "</style>\n",
              "\n",
              "      <script>\n",
              "        async function quickchart(key) {\n",
              "          const quickchartButtonEl =\n",
              "            document.querySelector('#' + key + ' button');\n",
              "          quickchartButtonEl.disabled = true;  // To prevent multiple clicks.\n",
              "          quickchartButtonEl.classList.add('colab-df-spinner');\n",
              "          try {\n",
              "            const charts = await google.colab.kernel.invokeFunction(\n",
              "                'suggestCharts', [key], {});\n",
              "          } catch (error) {\n",
              "            console.error('Error during call to suggestCharts:', error);\n",
              "          }\n",
              "          quickchartButtonEl.classList.remove('colab-df-spinner');\n",
              "          quickchartButtonEl.classList.add('colab-df-quickchart-complete');\n",
              "        }\n",
              "        (() => {\n",
              "          let quickchartButtonEl =\n",
              "            document.querySelector('#df-0f8f4710-1ef2-4a1e-af13-c7cf06d8d67b button');\n",
              "          quickchartButtonEl.style.display =\n",
              "            google.colab.kernel.accessAllowed ? 'block' : 'none';\n",
              "        })();\n",
              "      </script>\n",
              "    </div>\n",
              "\n",
              "    </div>\n",
              "  </div>\n"
            ],
            "application/vnd.google.colaboratory.intrinsic+json": {
              "type": "dataframe",
              "summary": "{\n  \"name\": \"df\",\n  \"rows\": 8,\n  \"fields\": [\n    {\n      \"column\": \"Year\",\n      \"properties\": {\n        \"dtype\": \"number\",\n        \"std\": 2266.1529341832124,\n        \"min\": 20.00014154884757,\n        \"max\": 7812.0,\n        \"num_unique_values\": 8,\n        \"samples\": [\n          1993.797363031234,\n          1997.0,\n          7812.0\n        ],\n        \"semantic_type\": \"\",\n        \"description\": \"\"\n      }\n    },\n    {\n      \"column\": \"Duration\",\n      \"properties\": {\n        \"dtype\": \"number\",\n        \"std\": 2718.200016000757,\n        \"min\": 21.0,\n        \"max\": 7812.0,\n        \"num_unique_values\": 8,\n        \"samples\": [\n          132.69905273937533,\n          134.0,\n          7812.0\n        ],\n        \"semantic_type\": \"\",\n        \"description\": \"\"\n      }\n    },\n    {\n      \"column\": \"Rating\",\n      \"properties\": {\n        \"dtype\": \"number\",\n        \"std\": 2760.1412806121502,\n        \"min\": 1.1,\n        \"max\": 7812.0,\n        \"num_unique_values\": 8,\n        \"samples\": [\n          5.839196108550946,\n          6.0,\n          7812.0\n        ],\n        \"semantic_type\": \"\",\n        \"description\": \"\"\n      }\n    },\n    {\n      \"column\": \"Votes\",\n      \"properties\": {\n        \"dtype\": \"number\",\n        \"std\": 2760.197082003905,\n        \"min\": 1.791759469228055,\n        \"max\": 7812.0,\n        \"num_unique_values\": 8,\n        \"samples\": [\n          4.654525387741301,\n          4.060443010546419,\n          7812.0\n        ],\n        \"semantic_type\": \"\",\n        \"description\": \"\"\n      }\n    },\n    {\n      \"column\": \"Num_Actors\",\n      \"properties\": {\n        \"dtype\": \"number\",\n        \"std\": 2761.1849347969314,\n        \"min\": 0.0,\n        \"max\": 7812.0,\n        \"num_unique_values\": 5,\n        \"samples\": [\n          2.9321556579621095,\n          3.0,\n          0.40100413247804373\n        ],\n        \"semantic_type\": \"\",\n        \"description\": \"\"\n      }\n    },\n    {\n      \"column\": \"Director_Freq\",\n      \"properties\": {\n        \"dtype\": \"number\",\n        \"std\": 2761.9585496264885,\n        \"min\": 0.00012800819252432156,\n        \"max\": 7812.0,\n        \"num_unique_values\": 7,\n        \"samples\": [\n          7812.0,\n          0.001086758748668466,\n          0.0015360983102918587\n        ],\n        \"semantic_type\": \"\",\n        \"description\": \"\"\n      }\n    },\n    {\n      \"column\": \"Duration_x_Num_Actors\",\n      \"properties\": {\n        \"dtype\": \"number\",\n        \"std\": 2644.332546189095,\n        \"min\": 0.0,\n        \"max\": 7812.0,\n        \"num_unique_values\": 8,\n        \"samples\": [\n          390.98233486943167,\n          402.0,\n          7812.0\n        ],\n        \"semantic_type\": \"\",\n        \"description\": \"\"\n      }\n    },\n    {\n      \"column\": \"Votes_x_DirectorFreq\",\n      \"properties\": {\n        \"dtype\": \"number\",\n        \"std\": 2761.9546259359145,\n        \"min\": 0.00022935989109422106,\n        \"max\": 7812.0,\n        \"num_unique_values\": 8,\n        \"samples\": [\n          0.005262320292810473,\n          0.002538133745442816,\n          7812.0\n        ],\n        \"semantic_type\": \"\",\n        \"description\": \"\"\n      }\n    },\n    {\n      \"column\": \"Actor1_Freq\",\n      \"properties\": {\n        \"dtype\": \"number\",\n        \"std\": 2749.2720842082717,\n        \"min\": 0.0,\n        \"max\": 7812.0,\n        \"num_unique_values\": 8,\n        \"samples\": [\n          28.850614439324115,\n          9.0,\n          7812.0\n        ],\n        \"semantic_type\": \"\",\n        \"description\": \"\"\n      }\n    },\n    {\n      \"column\": \"Actor2_Freq\",\n      \"properties\": {\n        \"dtype\": \"number\",\n        \"std\": 2755.467113908131,\n        \"min\": 0.0,\n        \"max\": 7812.0,\n        \"num_unique_values\": 8,\n        \"samples\": [\n          12.392601126472094,\n          5.0,\n          7812.0\n        ],\n        \"semantic_type\": \"\",\n        \"description\": \"\"\n      }\n    },\n    {\n      \"column\": \"Actor3_Freq\",\n      \"properties\": {\n        \"dtype\": \"number\",\n        \"std\": 2756.3068753781013,\n        \"min\": 0.0,\n        \"max\": 7812.0,\n        \"num_unique_values\": 8,\n        \"samples\": [\n          9.508448540706604,\n          4.0,\n          7812.0\n        ],\n        \"semantic_type\": \"\",\n        \"description\": \"\"\n      }\n    },\n    {\n      \"column\": \"Total_Actor_Freq\",\n      \"properties\": {\n        \"dtype\": \"number\",\n        \"std\": 2738.171806626868,\n        \"min\": 0.0,\n        \"max\": 7812.0,\n        \"num_unique_values\": 8,\n        \"samples\": [\n          50.751664106502815,\n          29.0,\n          7812.0\n        ],\n        \"semantic_type\": \"\",\n        \"description\": \"\"\n      }\n    }\n  ]\n}"
            }
          },
          "metadata": {},
          "execution_count": 44
        }
      ]
    },
    {
      "cell_type": "code",
      "source": [
        "#Count of missing values column wise\n",
        "print(df.isnull().sum())"
      ],
      "metadata": {
        "collapsed": true,
        "id": "jv96PdnCLxxV"
      },
      "execution_count": null,
      "outputs": []
    },
    {
      "cell_type": "code",
      "source": [
        "#Data Cleaning\n",
        "# Drop rows with missing values in key columns\n",
        "df.dropna(subset=['Genre', 'Director', 'Rating'], inplace=True)\n",
        "\n",
        "# Clean 'Year' column\n",
        "df['Year'] = df['Year'].astype(str).str.extract(r'(\\d{4})').astype(float)\n",
        "\n",
        "# Clean 'Duration' column\n",
        "df['Duration'] = df['Duration'].astype(str).str.replace('min', '', regex=False).astype(float)\n",
        "median_duration = df['Duration'].median()\n",
        "df['Duration'] = df['Duration'].fillna(median_duration)\n",
        "print(df['Duration'].isnull().sum())\n",
        "\n",
        "# Simplify Genre\n",
        "df['Main_Genre'] = df['Genre'].astype(str).apply(lambda x: x.split(',')[0].strip())\n",
        "# Combine Actors into one column\n",
        "df['All_Actors'] = df[['Actor 1', 'Actor 2', 'Actor 3']].fillna('').agg(','.join, axis=1)\n",
        "\n",
        "# Count number of actors\n",
        "df['Num_Actors'] = df['All_Actors'].apply(lambda x: len([a for a in x.split(',') if a.strip() != '']))\n",
        "\n",
        "df['Votes'] = df['Votes'].astype(str).str.replace(',', '', regex=False)\n",
        "df['Votes'] = pd.to_numeric(df['Votes'], errors='coerce')\n",
        "\n",
        "# Step 2: Fill missing values with median\n",
        "median_votes = df['Votes'].median()\n",
        "df['Votes'] = df['Votes'].fillna(median_votes)\n",
        "df['Votes'] = np.log1p(df['Votes'])\n",
        "\n",
        "\n",
        "\n"
      ],
      "metadata": {
        "id": "SaBx6UFvfgpF"
      },
      "execution_count": null,
      "outputs": []
    },
    {
      "cell_type": "code",
      "source": [
        "df.info()\n",
        "print(df.isnull().sum())"
      ],
      "metadata": {
        "collapsed": true,
        "id": "driO95B2gjIb"
      },
      "execution_count": null,
      "outputs": []
    },
    {
      "cell_type": "code",
      "source": [
        "# One-hot encode the main genre\n",
        "genre_dummies = pd.get_dummies(df['Main_Genre'], prefix='Genre')\n",
        "df = pd.concat([df, genre_dummies], axis=1)\n",
        "print(df.head(10))"
      ],
      "metadata": {
        "collapsed": true,
        "id": "Mao-Jih_hPRf"
      },
      "execution_count": null,
      "outputs": []
    },
    {
      "cell_type": "code",
      "source": [
        "# Get all columns that start with 'Genre_'\n",
        "genre_columns = [col for col in df.columns if col.startswith('Genre_')]\n",
        "\n",
        "# Print the genre columns names\n",
        "print(\"Genre columns:\", genre_columns)\n",
        "\n",
        "# Print first 10 rows of only these genre columns\n",
        "print(df[genre_columns].head(10))\n"
      ],
      "metadata": {
        "collapsed": true,
        "id": "HvH8aqoshp_g"
      },
      "execution_count": null,
      "outputs": []
    },
    {
      "cell_type": "code",
      "source": [
        "#Feature Engineering\n",
        "# Calculate actor frequency for each actor column\n",
        "actor1_freq = df['Actor 1'].value_counts()\n",
        "actor2_freq = df['Actor 2'].value_counts()\n",
        "actor3_freq = df['Actor 3'].value_counts()\n",
        "\n",
        "# Map these frequencies back to the DataFrame, filling missing actors with 0 frequency\n",
        "df['Actor1_Freq'] = df['Actor 1'].map(actor1_freq).fillna(0)\n",
        "df['Actor2_Freq'] = df['Actor 2'].map(actor2_freq).fillna(0)\n",
        "df['Actor3_Freq'] = df['Actor 3'].map(actor3_freq).fillna(0)\n",
        "\n",
        "# Optionally, you can create a combined actor frequency by summing them\n",
        "df['Total_Actor_Freq'] = df['Actor1_Freq'] + df['Actor2_Freq'] + df['Actor3_Freq']\n",
        "\n",
        "\n",
        "director_freq = df['Director'].value_counts(normalize=True)\n",
        "df['Director_Freq'] = df['Director'].map(director_freq)\n",
        "print(df[['Genre','Director_Freq']])\n",
        "df['Duration_x_Num_Actors'] = df['Duration'] * df['Num_Actors']\n",
        "df['Votes_x_DirectorFreq'] = df['Votes'] * df['Director_Freq']"
      ],
      "metadata": {
        "collapsed": true,
        "id": "_op7PRkYh4JO"
      },
      "execution_count": null,
      "outputs": []
    },
    {
      "cell_type": "code",
      "source": [
        "#Prepare Data for Modeling\n",
        "features = ['Year', 'Duration', 'Num_Actors', 'Director_Freq','Votes','Duration_x_Num_Actors','Votes_x_DirectorFreq','Actor1_Freq','Actor2_Freq','Actor3_Freq'] + [col for col in df.columns if col.startswith('Genre_')]\n",
        "X = df[features]\n",
        "y = df['Rating']\n"
      ],
      "metadata": {
        "id": "IDk3BIj9jJzD"
      },
      "execution_count": null,
      "outputs": []
    },
    {
      "cell_type": "code",
      "source": [
        "#Train-Test Split\n",
        "X_train, X_test, y_train, y_test = train_test_split(X, y, test_size=0.2, random_state=42)\n"
      ],
      "metadata": {
        "id": "pYFOCLUDjTbS"
      },
      "execution_count": null,
      "outputs": []
    },
    {
      "cell_type": "code",
      "source": [
        "#Training the model\n",
        "\n",
        "model = LinearRegression()  # Create the model (robot)\n",
        "model.fit(X_train, y_train)  # Train model on training data\n"
      ],
      "metadata": {
        "id": "LgdOUnPjj2dy"
      },
      "execution_count": null,
      "outputs": []
    },
    {
      "cell_type": "code",
      "source": [
        "#Linear Regression\n",
        "y_pred = model.predict(X_test)  # Make predictions on test features\n",
        "\n",
        "mse = mean_squared_error(y_test, y_pred)\n",
        "rmse = mse ** 0.5\n",
        "\n",
        "r2 = r2_score(y_test, y_pred)  # Calculate how well predictions match true ratings\n",
        "\n",
        "print(f\"RMSE: {rmse:.3f}\")\n",
        "print(f\"R^2 Score: {r2:.3f}\")\n"
      ],
      "metadata": {
        "colab": {
          "base_uri": "https://localhost:8080/"
        },
        "id": "P2r6MVpxl80_",
        "outputId": "6bc3f675-faae-4d12-9d8a-94213b0db386"
      },
      "execution_count": 40,
      "outputs": [
        {
          "output_type": "stream",
          "name": "stdout",
          "text": [
            "RMSE: 1.236\n",
            "R^2 Score: 0.205\n"
          ]
        }
      ]
    },
    {
      "cell_type": "code",
      "source": [
        "#Random Forest\n",
        "rf_model = RandomForestRegressor(\n",
        "    n_estimators=100, max_depth=10, random_state=42\n",
        ")\n",
        "rf_model.fit(X_train, y_train)\n",
        "y_pred_rf = rf_model.predict(X_test)\n",
        "\n",
        "mse_rf = mean_squared_error(y_test, y_pred_rf)\n",
        "rmse_rf = mse_rf ** 0.5\n",
        "r2_rf = r2_score(y_test, y_pred_rf)\n",
        "\n",
        "print(f'Random Forest RMSE: {rmse_rf:.3f}')\n",
        "print(f'Random Forest R^2: {r2_rf:.3f}')\n"
      ],
      "metadata": {
        "colab": {
          "base_uri": "https://localhost:8080/"
        },
        "id": "8jQj2j6jtN4M",
        "outputId": "06c3c60f-7211-4146-9920-c4802087dab5"
      },
      "execution_count": 41,
      "outputs": [
        {
          "output_type": "stream",
          "name": "stdout",
          "text": [
            "Random Forest RMSE: 1.085\n",
            "Random Forest R^2: 0.388\n"
          ]
        }
      ]
    },
    {
      "cell_type": "code",
      "source": [
        "from sklearn.neighbors import KNeighborsRegressor\n",
        "\n",
        "knn_model = KNeighborsRegressor(n_neighbors=5)\n",
        "\n",
        "knn_model.fit(X_train, y_train)\n",
        "y_pred_knn = knn_model.predict(X_test)\n",
        "\n",
        "mse_knn = mean_squared_error(y_test, y_pred_knn)\n",
        "rmse_knn=mse_knn**0.5\n",
        "r2_knn = r2_score(y_test, y_pred_knn)\n",
        "\n",
        "print(f'KNN RMSE: {rmse_knn:.3f}')\n",
        "print(f'KNN R^2: {r2_knn:.3f}')\n"
      ],
      "metadata": {
        "colab": {
          "base_uri": "https://localhost:8080/"
        },
        "id": "cm-VIhTNtonK",
        "outputId": "5bc2f456-03f4-4b35-9684-2a241405b517"
      },
      "execution_count": 42,
      "outputs": [
        {
          "output_type": "stream",
          "name": "stdout",
          "text": [
            "KNN RMSE: 1.324\n",
            "KNN R^2: 0.088\n"
          ]
        }
      ]
    },
    {
      "cell_type": "code",
      "source": [
        "def evaluate_model(y_true, y_pred, name=\"Model\"):\n",
        "    rmse = np.sqrt(mean_squared_error(y_true, y_pred))\n",
        "    r2 = r2_score(y_true, y_pred)\n",
        "    print(f\"{name} RMSE: {rmse:.3f}\")\n",
        "    print(f\"{name} R² Score: {r2:.3f}\")\n",
        "    return rmse, r2\n",
        "\n",
        "evaluate_model(y_test, y_pred, \"Linear Regression\")\n",
        "evaluate_model(y_test, y_pred_rf, \"Random Forest\")\n"
      ],
      "metadata": {
        "colab": {
          "base_uri": "https://localhost:8080/"
        },
        "id": "X8kZZ0yDN1qO",
        "outputId": "0d47ef47-058a-4484-97db-ad6f5af755a5"
      },
      "execution_count": 43,
      "outputs": [
        {
          "output_type": "stream",
          "name": "stdout",
          "text": [
            "Linear Regression RMSE: 1.236\n",
            "Linear Regression R² Score: 0.205\n",
            "Random Forest RMSE: 1.085\n",
            "Random Forest R² Score: 0.388\n"
          ]
        },
        {
          "output_type": "execute_result",
          "data": {
            "text/plain": [
              "(np.float64(1.0850179438171634), 0.38752061911158064)"
            ]
          },
          "metadata": {},
          "execution_count": 43
        }
      ]
    }
  ]
}